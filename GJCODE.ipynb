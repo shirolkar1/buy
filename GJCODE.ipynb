{
  "nbformat": 4,
  "nbformat_minor": 0,
  "metadata": {
    "colab": {
      "provenance": [],
      "mount_file_id": "1AkqN0OMCIBnpnl0T0xJGI6yxuFc4-7Ty",
      "authorship_tag": "ABX9TyMjt4wGLyhDhCe2CQPwOJ/f",
      "include_colab_link": true
    },
    "kernelspec": {
      "name": "python3",
      "display_name": "Python 3"
    },
    "language_info": {
      "name": "python"
    }
  },
  "cells": [
    {
      "cell_type": "markdown",
      "metadata": {
        "id": "view-in-github",
        "colab_type": "text"
      },
      "source": [
        "<a href=\"https://colab.research.google.com/github/shirolkar1/buy/blob/main/GJCODE.ipynb\" target=\"_parent\"><img src=\"https://colab.research.google.com/assets/colab-badge.svg\" alt=\"Open In Colab\"/></a>"
      ]
    },
    {
      "cell_type": "code",
      "source": [
        "!pip install tabula-py\n",
        "import tabula\n",
        "import pandas as pd\n",
        "\n",
        "# Specify the file paths\n",
        "pdf_path = '/content/drive/MyDrive/GJ/daily sales-1_06_2024.pdf'\n",
        "excel_path = '/content/output.xlsx'\n",
        "\n",
        "# Read the PDF file and extract tables\n",
        "tables = tabula.read_pdf(pdf_path, pages='all', multiple_tables=True)\n",
        "\n",
        "# Convert the tables into a single DataFrame\n",
        "df = pd.concat(tables, ignore_index=True)\n",
        "\n",
        "# Save the DataFrame to an Excel file\n",
        "df.to_excel(excel_path, index=False)\n",
        "\n",
        "print(f\"PDF converted to Excel and saved at {excel_path}\")\n",
        "df = pd.read_excel(excel_path, engine='openpyxl')\n",
        "!pip install pandas twilio\n",
        "\n",
        "import pandas as pd\n",
        "from datetime import datetime\n",
        "\n",
        "\n",
        "# Convert \"Total Gross\" and \"GST\" columns to numeric values\n",
        "df[\"Total Gross\"] = df[\"Total Gross\"].replace('[\\$,]', '', regex=True).astype(float)\n",
        "df[\"GST\"] = df[\"GST\"].replace('[\\$,]', '', regex=True).astype(float)\n",
        "\n",
        "# Calculate \"Net Sales\" as the difference between \"Total Gross\" and \"GST\"\n",
        "df[\"Net Sales\"] = df[\"Total Gross\"] - df[\"GST\"]\n",
        "\n",
        "# Select relevant columns including the new \"Net Sales\" column\n",
        "columns_to_select = [\"Total Gross\", \"GST\", \"Customer Count\", \"ATV\", \"Net Sales\"]\n",
        "\n",
        "# Calculate the most common values (mode) for each column\n",
        "most_common_values = df[columns_to_select].mode().iloc[0]\n",
        "\n",
        "# Format the message body with today's date and net sales as an integer\n",
        "today_date = datetime.now().strftime('%Y-%m-%d')\n",
        "net_sales = int(most_common_values[\"Net Sales\"])\n",
        "message_body = f\"Today's Sales for {today_date}: Net Sales: {net_sales} - Customer Count: {most_common_values['Customer Count']} - ATV: {most_common_values['ATV']}\"\n",
        "import requests\n",
        "import json\n",
        "\n",
        "# Replace with your actual Infobip credentials and information\n",
        "api_url = \"https://5ygn4g.api.infobip.com/whatsapp/1/message/text\"\n",
        "api_key = \"5385055231d6a6a6b17a02428310f7df-22824023-1aef-47bf-989d-39974f9d6882\"\n",
        "sender_number = \"447860099299\"  # Your Infobip WhatsApp sender number\n",
        "recipient_number = \"61452056539\"  # Recipient's phone number including the country code\n",
        "\n",
        "# Define the payload for a custom text message\n",
        "payload = {\n",
        "    \"from\": sender_number,\n",
        "    \"to\": recipient_number,\n",
        "    \"messageId\": \"a28dd97c-1ffb-4fcf-99f1-0b557ed381da\",\n",
        "    \"content\": {\n",
        "        \"text\": message_body\n",
        "    },\n",
        "\n",
        "}\n",
        "\n",
        "# Define the headers\n",
        "headers = {\n",
        "    'Authorization': f'App {api_key}',\n",
        "    'Content-Type': 'application/json',\n",
        "    'Accept': 'application/json'\n",
        "}\n",
        "\n",
        "# Make the POST request\n",
        "response = requests.post(api_url, headers=headers, data=json.dumps(payload))\n",
        "\n",
        "# Print the response\n",
        "print(response.status_code)\n",
        "print(response.json())\n"
      ],
      "metadata": {
        "colab": {
          "base_uri": "https://localhost:8080/"
        },
        "id": "MX5S9V67LA1W",
        "outputId": "7bfd8b9d-e445-4c44-d577-9950706d689a"
      },
      "execution_count": 29,
      "outputs": [
        {
          "output_type": "stream",
          "name": "stdout",
          "text": [
            "Requirement already satisfied: tabula-py in /usr/local/lib/python3.10/dist-packages (2.9.3)\n",
            "Requirement already satisfied: pandas>=0.25.3 in /usr/local/lib/python3.10/dist-packages (from tabula-py) (2.0.3)\n",
            "Requirement already satisfied: numpy in /usr/local/lib/python3.10/dist-packages (from tabula-py) (1.25.2)\n",
            "Requirement already satisfied: distro in /usr/lib/python3/dist-packages (from tabula-py) (1.7.0)\n",
            "Requirement already satisfied: python-dateutil>=2.8.2 in /usr/local/lib/python3.10/dist-packages (from pandas>=0.25.3->tabula-py) (2.8.2)\n",
            "Requirement already satisfied: pytz>=2020.1 in /usr/local/lib/python3.10/dist-packages (from pandas>=0.25.3->tabula-py) (2023.4)\n",
            "Requirement already satisfied: tzdata>=2022.1 in /usr/local/lib/python3.10/dist-packages (from pandas>=0.25.3->tabula-py) (2024.1)\n",
            "Requirement already satisfied: six>=1.5 in /usr/local/lib/python3.10/dist-packages (from python-dateutil>=2.8.2->pandas>=0.25.3->tabula-py) (1.16.0)\n",
            "PDF converted to Excel and saved at /content/output.xlsx\n",
            "Requirement already satisfied: pandas in /usr/local/lib/python3.10/dist-packages (2.0.3)\n",
            "Requirement already satisfied: twilio in /usr/local/lib/python3.10/dist-packages (9.1.1)\n",
            "Requirement already satisfied: python-dateutil>=2.8.2 in /usr/local/lib/python3.10/dist-packages (from pandas) (2.8.2)\n",
            "Requirement already satisfied: pytz>=2020.1 in /usr/local/lib/python3.10/dist-packages (from pandas) (2023.4)\n",
            "Requirement already satisfied: tzdata>=2022.1 in /usr/local/lib/python3.10/dist-packages (from pandas) (2024.1)\n",
            "Requirement already satisfied: numpy>=1.21.0 in /usr/local/lib/python3.10/dist-packages (from pandas) (1.25.2)\n",
            "Requirement already satisfied: requests>=2.0.0 in /usr/local/lib/python3.10/dist-packages (from twilio) (2.31.0)\n",
            "Requirement already satisfied: PyJWT<3.0.0,>=2.0.0 in /usr/lib/python3/dist-packages (from twilio) (2.3.0)\n",
            "Requirement already satisfied: aiohttp>=3.8.4 in /usr/local/lib/python3.10/dist-packages (from twilio) (3.9.5)\n",
            "Requirement already satisfied: aiohttp-retry>=2.8.3 in /usr/local/lib/python3.10/dist-packages (from twilio) (2.8.3)\n",
            "Requirement already satisfied: aiosignal>=1.1.2 in /usr/local/lib/python3.10/dist-packages (from aiohttp>=3.8.4->twilio) (1.3.1)\n",
            "Requirement already satisfied: attrs>=17.3.0 in /usr/local/lib/python3.10/dist-packages (from aiohttp>=3.8.4->twilio) (23.2.0)\n",
            "Requirement already satisfied: frozenlist>=1.1.1 in /usr/local/lib/python3.10/dist-packages (from aiohttp>=3.8.4->twilio) (1.4.1)\n",
            "Requirement already satisfied: multidict<7.0,>=4.5 in /usr/local/lib/python3.10/dist-packages (from aiohttp>=3.8.4->twilio) (6.0.5)\n",
            "Requirement already satisfied: yarl<2.0,>=1.0 in /usr/local/lib/python3.10/dist-packages (from aiohttp>=3.8.4->twilio) (1.9.4)\n",
            "Requirement already satisfied: async-timeout<5.0,>=4.0 in /usr/local/lib/python3.10/dist-packages (from aiohttp>=3.8.4->twilio) (4.0.3)\n",
            "Requirement already satisfied: six>=1.5 in /usr/local/lib/python3.10/dist-packages (from python-dateutil>=2.8.2->pandas) (1.16.0)\n",
            "Requirement already satisfied: charset-normalizer<4,>=2 in /usr/local/lib/python3.10/dist-packages (from requests>=2.0.0->twilio) (3.3.2)\n",
            "Requirement already satisfied: idna<4,>=2.5 in /usr/local/lib/python3.10/dist-packages (from requests>=2.0.0->twilio) (3.7)\n",
            "Requirement already satisfied: urllib3<3,>=1.21.1 in /usr/local/lib/python3.10/dist-packages (from requests>=2.0.0->twilio) (2.0.7)\n",
            "Requirement already satisfied: certifi>=2017.4.17 in /usr/local/lib/python3.10/dist-packages (from requests>=2.0.0->twilio) (2024.6.2)\n",
            "200\n",
            "{'to': '61452056539', 'messageCount': 1, 'messageId': 'a28dd97c-1ffb-4fcf-99f1-0b557ed381da', 'status': {'groupId': 1, 'groupName': 'PENDING', 'id': 7, 'name': 'PENDING_ENROUTE', 'description': 'Message sent to next instance'}}\n"
          ]
        }
      ]
    }
  ]
}